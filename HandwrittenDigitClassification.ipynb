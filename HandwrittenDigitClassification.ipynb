{
  "nbformat": 4,
  "nbformat_minor": 0,
  "metadata": {
    "colab": {
      "provenance": []
    },
    "kernelspec": {
      "name": "python3",
      "display_name": "Python 3"
    },
    "language_info": {
      "name": "python"
    }
  },
  "cells": [
    {
      "cell_type": "code",
      "execution_count": 30,
      "metadata": {
        "id": "6V9S-SlDDOoV"
      },
      "outputs": [],
      "source": [
        "import tensorflow as tf\n",
        "from tensorflow import keras\n",
        "from tensorflow.keras import Sequential\n",
        "from tensorflow.keras.layers import Dense,Flatten\n",
        "import matplotlib.pyplot as plt\n",
        "from sklearn.metrics import accuracy_score\n",
        "from sklearn.model_selection import train_test_split\n",
        "import seaborn as sns\n",
        "import pandas as pd"
      ]
    },
    {
      "cell_type": "code",
      "source": [
        "\n",
        "df=pd.read_csv(\"MNIST.csv\")\n",
        "from sklearn.model_selection import train_test_split\n",
        "X=df.iloc[:,1:].values\n",
        "y=df.iloc[:,0].values\n",
        "X_train,X_test,y_train,y_test=train_test_split(X,y,test_size=0.1,random_state=2)\n",
        "X_train,X_cv,y_train,y_cv=train_test_split(X_train,y_train,test_size=0.1,random_state=2)"
      ],
      "metadata": {
        "id": "mO_j44mUFZFq"
      },
      "execution_count": 2,
      "outputs": []
    },
    {
      "cell_type": "code",
      "source": [
        "print(X_train.shape)\n",
        "print(X_test.shape)\n",
        "print(y_train.shape)\n",
        "print(y_test.shape)\n",
        "print(X_cv.shape)\n",
        "print(y_cv.shape)"
      ],
      "metadata": {
        "colab": {
          "base_uri": "https://localhost:8080/"
        },
        "id": "Fo9nEXcLFbjF",
        "outputId": "332def30-e1af-4847-f17d-3c4f884af206"
      },
      "execution_count": 3,
      "outputs": [
        {
          "output_type": "stream",
          "name": "stdout",
          "text": [
            "(34020, 784)\n",
            "(4200, 784)\n",
            "(34020,)\n",
            "(4200,)\n",
            "(3780, 784)\n",
            "(3780,)\n"
          ]
        }
      ]
    },
    {
      "cell_type": "code",
      "source": [
        "plt.imshow(X_train[0].reshape(28,28))"
      ],
      "metadata": {
        "colab": {
          "base_uri": "https://localhost:8080/",
          "height": 447
        },
        "id": "vTqh-gS7FpVe",
        "outputId": "00aab9dc-5232-4493-d5a0-16242fc15ccc"
      },
      "execution_count": 4,
      "outputs": [
        {
          "output_type": "execute_result",
          "data": {
            "text/plain": [
              "<matplotlib.image.AxesImage at 0x7f613e368f70>"
            ]
          },
          "metadata": {},
          "execution_count": 4
        },
        {
          "output_type": "display_data",
          "data": {
            "text/plain": [
              "<Figure size 640x480 with 1 Axes>"
            ],
            "image/png": "[encoded data removed]"
          },
          "metadata": {}
        }
      ]
    },
    {
      "cell_type": "code",
      "source": [
        "X_train = X_train/255\n",
        "X_test = X_test/255"
      ],
      "metadata": {
        "id": "lDIMlHeUFt1L"
      },
      "execution_count": 5,
      "outputs": []
    },
    {
      "cell_type": "code",
      "source": [
        "#SVM\n",
        "from sklearn.svm import SVC\n",
        "classifier = SVC()\n",
        "classifier.fit(X_train, y_train)\n",
        "y_pred_train = classifier.predict(X_train)\n",
        "print(f'train acc-{accuracy_score(y_train, y_pred_train)}')\n",
        "\n",
        "y_pred_cv = classifier.predict(X_cv)\n",
        "print(f'cv acc-{accuracy_score(y_cv, y_pred_cv)}')\n",
        "\n",
        "y_pred_test = classifier.predict(X_test)\n",
        "print(f'test acc-{accuracy_score(y_test, y_pred_test)}')"
      ],
      "metadata": {
        "id": "4GtQtKbfIqFp",
        "colab": {
          "base_uri": "https://localhost:8080/"
        },
        "outputId": "a321c677-07d3-41ac-835f-2193a62fe992"
      },
      "execution_count": 22,
      "outputs": [
        {
          "output_type": "stream",
          "name": "stdout",
          "text": [
            "train acc-0.9887419165196943\n",
            "cv acc-0.09814814814814815\n",
            "test acc-0.9733333333333334\n"
          ]
        }
      ]
    },
    {
      "cell_type": "code",
      "source": [
        "#ANN\n",
        "\n",
        "model1 = Sequential()\n",
        "\n",
        "#model1.add(Flatten(input_shape=(28,28),name='L1'))\n",
        "model1.add(keras.Input(shape=(784,)))\n",
        "model1.add(Dense(128,activation='relu',name='L2'))\n",
        "model1.add(Dense(10,activation='softmax',name='L3'))"
      ],
      "metadata": {
        "id": "KOxfPHxFIsP8"
      },
      "execution_count": 7,
      "outputs": []
    },
    {
      "cell_type": "code",
      "source": [
        "model1.summary()"
      ],
      "metadata": {
        "colab": {
          "base_uri": "https://localhost:8080/"
        },
        "id": "VearVIVQI2Tt",
        "outputId": "e53432b0-4d87-4fdd-ee9f-df53ed38e1c1"
      },
      "execution_count": 8,
      "outputs": [
        {
          "output_type": "stream",
          "name": "stdout",
          "text": [
            "Model: \"sequential\"\n",
            "_________________________________________________________________\n",
            " Layer (type)                Output Shape              Param #   \n",
            "=================================================================\n",
            " L2 (Dense)                  (None, 128)               100480    \n",
            "                                                                 \n",
            " L3 (Dense)                  (None, 10)                1290      \n",
            "                                                                 \n",
            "=================================================================\n",
            "Total params: 101,770\n",
            "Trainable params: 101,770\n",
            "Non-trainable params: 0\n",
            "_________________________________________________________________\n"
          ]
        }
      ]
    },
    {
      "cell_type": "code",
      "source": [
        "model1.compile(loss='sparse_categorical_crossentropy',optimizer='Adam',metrics=['accuracy'])\n",
        "history=model1.fit(X_train,y_train,epochs=10,verbose=0)"
      ],
      "metadata": {
        "id": "7rbUz3D9I5b_"
      },
      "execution_count": 9,
      "outputs": []
    },
    {
      "cell_type": "code",
      "source": [
        "y_prob1 = model1.predict(X_train)\n",
        "y_pred1 = y_prob1.argmax(axis=1)\n",
        "print(f'train acc: {accuracy_score(y_train,y_pred1)}')\n",
        "\n",
        "y_prob1 = model1.predict(X_cv)\n",
        "y_pred1 = y_prob1.argmax(axis=1)\n",
        "print(f'cv acc: {accuracy_score(y_cv,y_pred1)}')"
      ],
      "metadata": {
        "colab": {
          "base_uri": "https://localhost:8080/"
        },
        "id": "COTWx7S6JNys",
        "outputId": "18a17365-f4c3-4955-8d19-a92a66db2c43"
      },
      "execution_count": 10,
      "outputs": [
        {
          "output_type": "stream",
          "name": "stdout",
          "text": [
            "1064/1064 [==============================] - 2s 2ms/step\n",
            "train acc: 0.9966784244562022\n",
            "119/119 [==============================] - 0s 2ms/step\n",
            "cv acc: 0.9719576719576719\n"
          ]
        }
      ]
    },
    {
      "cell_type": "code",
      "source": [
        "#now try to optimize it by using logits and linear in output layer"
      ],
      "metadata": {
        "id": "wnhD3JAgJe-i"
      },
      "execution_count": 11,
      "outputs": []
    },
    {
      "cell_type": "code",
      "source": [
        "model2 = Sequential(\n",
        "    [\n",
        "        #Flatten(input_shape=(28,28),name='L1'),\n",
        "        keras.Input(shape=(784,)),\n",
        "        Dense(128, activation = 'relu',name='L2'),\n",
        "        Dense(10, activation = 'linear',name='L3')\n",
        "    ]\n",
        ")\n",
        "\n",
        "model2.compile(loss=tf.keras.losses.SparseCategoricalCrossentropy(from_logits=True), optimizer=tf.keras.optimizers.Adam(0.001))\n",
        "\n",
        "model2.fit(X_train,y_train,epochs=250,verbose=0)"
      ],
      "metadata": {
        "colab": {
          "base_uri": "https://localhost:8080/"
        },
        "id": "hMLkZ23iMANU",
        "outputId": "3fcbcfc7-3f9c-4fa6-fbe0-e191fd16ce7b"
      },
      "execution_count": 12,
      "outputs": [
        {
          "output_type": "execute_result",
          "data": {
            "text/plain": [
              "<keras.callbacks.History at 0x7f613da2a290>"
            ]
          },
          "metadata": {},
          "execution_count": 12
        }
      ]
    },
    {
      "cell_type": "code",
      "source": [
        "y_prob2 = model2.predict(X_train)\n",
        "y_prob2 = tf.nn.softmax(y_prob2).numpy()\n",
        "y_pred2 = y_prob2.argmax(axis=1)\n",
        "print(f'train acc: {accuracy_score(y_train,y_pred2)}') #little bit better\n",
        "\n",
        "y_prob2 = model2.predict(X_cv)\n",
        "y_prob2 = tf.nn.softmax(y_prob2).numpy()\n",
        "y_pred2 = y_prob2.argmax(axis=1)\n",
        "print(f'cv acc: {accuracy_score(y_cv,y_pred2)}')"
      ],
      "metadata": {
        "colab": {
          "base_uri": "https://localhost:8080/"
        },
        "id": "UO_rrGKDPb-r",
        "outputId": "5744221c-814c-4acb-c61f-dadc649cac82"
      },
      "execution_count": 13,
      "outputs": [
        {
          "output_type": "stream",
          "name": "stdout",
          "text": [
            "1064/1064 [==============================] - 2s 2ms/step\n",
            "train acc: 1.0\n",
            "119/119 [==============================] - 0s 2ms/step\n",
            "cv acc: 0.9761904761904762\n"
          ]
        }
      ]
    },
    {
      "cell_type": "code",
      "source": [
        "#trying different architechture to improve accuracy"
      ],
      "metadata": {
        "id": "4DQ-MTwHPwAb"
      },
      "execution_count": 14,
      "outputs": []
    },
    {
      "cell_type": "code",
      "source": [
        "train_acc_list = []\n",
        "cv_acc_list = []\n",
        "\n",
        "\n",
        "\n",
        "model1 = Sequential(\n",
        "    [\n",
        "        #Flatten(input_shape=(28,28),name='L1'),\n",
        "        keras.Input(shape=(784,)),\n",
        "        Dense(25, activation='relu', name = 'L2'),\n",
        "        Dense(15, activation='relu', name = 'L3'),\n",
        "        Dense(10, activation='linear', name = 'L4')\n",
        "     ]\n",
        ")\n",
        "\n",
        "model2 = Sequential(\n",
        "    [\n",
        "        #Flatten(input_shape=(28,28),name='L1'),\n",
        "        keras.Input(shape=(784,)),\n",
        "        Dense(128, activation='relu', name = 'L2'),\n",
        "        Dense(32, activation='relu', name = 'L3'),\n",
        "        Dense(10, activation='linear', name = 'L4')\n",
        "     ]\n",
        ")\n",
        "\n",
        "model3 = Sequential(\n",
        "    [\n",
        "        #Flatten(input_shape=(28,28),name='L1'),\n",
        "        keras.Input(shape=(784,)),\n",
        "        Dense(65, activation='relu', name = 'L2'),\n",
        "        Dense(32, activation='relu', name = 'L3'),\n",
        "        Dense(32, activation='relu', name = 'L4'),\n",
        "        Dense(20, activation='relu', name = 'L5'),\n",
        "        Dense(10, activation='linear', name = 'L6')\n",
        "     ]\n",
        ")\n",
        "model4 = Sequential(\n",
        "    [\n",
        "        #Flatten(input_shape=(28,28),name='L1'),\n",
        "        keras.Input(shape=(784,)),\n",
        "        Dense(32, activation='relu', name = 'L2'),\n",
        "        Dense(16, activation='relu', name = 'L3'),\n",
        "        Dense(16, activation='relu', name = 'L4'),\n",
        "        Dense(16, activation='relu', name = 'L5'),\n",
        "        Dense(12, activation='relu', name = 'L6'),\n",
        "        Dense(10, activation='linear', name = 'L7')\n",
        "     ]\n",
        ")\n",
        "\n",
        "\n",
        "nn_models = [model1,model2,model3,model4]\n",
        "\n",
        "for model in nn_models:\n",
        "\n",
        "    model.compile(loss=tf.keras.losses.SparseCategoricalCrossentropy(from_logits=True), optimizer=tf.keras.optimizers.Adam(0.001))\n",
        "\n",
        "    print(f\"Training {model.name}\")\n",
        "    model.fit(X_train, y_train,epochs=100,verbose=0)\n",
        "\n",
        "    print(\"Done\\n\")\n",
        "    yhat = model.predict(X_train)\n",
        "    y_prob = tf.nn.softmax(yhat).numpy()\n",
        "    y_pred = y_prob.argmax(axis=1)\n",
        "    train_acc = accuracy_score(y_train,y_pred)\n",
        "    train_acc_list.append(train_acc)\n",
        "\n",
        "\n",
        "    yhat = model.predict(X_cv)\n",
        "    y_prob = tf.nn.softmax(yhat).numpy()\n",
        "    y_pred = y_prob.argmax(axis=1)\n",
        "    cv_acc = accuracy_score(y_cv,y_pred)\n",
        "    cv_acc_list.append(cv_acc)\n",
        "\n",
        "\n",
        "print(\"RESULTS----------------------------------------------------------------------------------\")\n",
        "for model_num in range(len(train_acc_list)):\n",
        "    print(\n",
        "        f\"Model {model_num+1}: Training Accuracy: {train_acc_list[model_num]:.2f}, \" +\n",
        "        f\"CV MSE: {cv_acc_list[model_num]:.2f}\"\n",
        "        )"
      ],
      "metadata": {
        "colab": {
          "base_uri": "https://localhost:8080/"
        },
        "id": "5-f-k94iQm_r",
        "outputId": "c329c453-29fd-4844-8f9c-92ad96dae4d9"
      },
      "execution_count": 15,
      "outputs": [
        {
          "output_type": "stream",
          "name": "stdout",
          "text": [
            "Training sequential_2\n",
            "Done\n",
            "\n",
            "1064/1064 [==============================] - 1s 1ms/step\n",
            "119/119 [==============================] - 0s 2ms/step\n",
            "Training sequential_3\n",
            "Done\n",
            "\n",
            "1064/1064 [==============================] - 2s 2ms/step\n",
            "119/119 [==============================] - 0s 2ms/step\n",
            "Training sequential_4\n",
            "Done\n",
            "\n",
            "1064/1064 [==============================] - 2s 2ms/step\n",
            "119/119 [==============================] - 0s 2ms/step\n",
            "Training sequential_5\n",
            "Done\n",
            "\n",
            "1064/1064 [==============================] - 2s 1ms/step\n",
            "119/119 [==============================] - 0s 1ms/step\n",
            "RESULTS----------------------------------------------------------------------------------\n",
            "Model 1: Training Accuracy: 0.99, CV MSE: 0.95\n",
            "Model 2: Training Accuracy: 1.00, CV MSE: 0.98\n",
            "Model 3: Training Accuracy: 1.00, CV MSE: 0.97\n",
            "Model 4: Training Accuracy: 1.00, CV MSE: 0.95\n"
          ]
        }
      ]
    },
    {
      "cell_type": "code",
      "source": [
        "# test accuracy\n",
        "\n",
        "model_num = 2\n",
        "\n",
        "yhat = nn_models[model_num].predict(X_test)\n",
        "y_prob = tf.nn.softmax(yhat).numpy()\n",
        "y_pred = y_prob.argmax(axis=1)\n",
        "test_acc = accuracy_score(y_test,y_pred)\n",
        "\n",
        "print(f\"Model- {model_num}\")\n",
        "print(f\"Training accuracy- {train_acc_list[model_num-1]:.4f}\")\n",
        "print(f\"CV acccuracy {cv_acc_list[model_num-1]:.4f}\")\n",
        "print(f\"Test accuracy: {test_acc:.4f}\")"
      ],
      "metadata": {
        "colab": {
          "base_uri": "https://localhost:8080/"
        },
        "id": "b4BTk669Vknt",
        "outputId": "ec7290b2-e098-4432-e6cc-09d82c1a965a"
      },
      "execution_count": 16,
      "outputs": [
        {
          "output_type": "stream",
          "name": "stdout",
          "text": [
            "132/132 [==============================] - 0s 2ms/step\n",
            "Model- 2\n",
            "Training accuracy- 1.0000\n",
            "CV acccuracy 0.9765\n",
            "Test accuracy: 0.9740\n"
          ]
        }
      ]
    },
    {
      "cell_type": "code",
      "source": [
        "#regularization\n",
        "model3 = Sequential(\n",
        "    [\n",
        "        #Flatten(input_shape=(28,28),name='L1'),\n",
        "        keras.Input(shape=(784,)),\n",
        "        Dense(128, activation='relu', name = 'L2',kernel_regularizer=tf.keras.regularizers.L2(0.01)),\n",
        "        Dense(32, activation='relu', name = 'L3',kernel_regularizer=tf.keras.regularizers.L2(0.01)),\n",
        "        Dense(10, activation='linear', name = 'L4',kernel_regularizer=tf.keras.regularizers.L2(0.01))\n",
        "     ]\n",
        ")\n",
        "model3.compile(loss=tf.keras.losses.SparseCategoricalCrossentropy(from_logits=True), optimizer='Adam',metrics=['accuracy'])\n",
        "\n",
        "history=model3.fit(X_train,y_train,epochs=100,verbose=0)"
      ],
      "metadata": {
        "id": "IzssuDRU6SKu"
      },
      "execution_count": 23,
      "outputs": []
    },
    {
      "cell_type": "code",
      "source": [
        "y_hat = model3.predict(X_train)\n",
        "y_prob = tf.nn.softmax(y_hat).numpy()\n",
        "y_pred = y_prob.argmax(axis=1)\n",
        "print(f'train acc: {accuracy_score(y_train,y_pred)}')\n",
        "\n",
        "y_hat = model3.predict(X_cv)\n",
        "y_prob = tf.nn.softmax(y_hat).numpy()\n",
        "y_pred = y_prob.argmax(axis=1)\n",
        "print(f'cv acc: {accuracy_score(y_cv,y_pred)}')"
      ],
      "metadata": {
        "colab": {
          "base_uri": "https://localhost:8080/"
        },
        "id": "s91abGibEpKc",
        "outputId": "106f2a78-2f2a-4cc0-d8a8-bb22a20f857b"
      },
      "execution_count": 24,
      "outputs": [
        {
          "output_type": "stream",
          "name": "stdout",
          "text": [
            "1064/1064 [==============================] - 2s 2ms/step\n",
            "train acc: 0.9185773074661964\n",
            "119/119 [==============================] - 0s 2ms/step\n",
            "cv acc: 0.8235449735449736\n"
          ]
        }
      ]
    },
    {
      "cell_type": "code",
      "source": [],
      "metadata": {
        "id": "eDMPZ0_oFLBE"
      },
      "execution_count": 24,
      "outputs": []
    },
    {
      "cell_type": "code",
      "source": [
        "model4 = Sequential(\n",
        "    [\n",
        "        #Flatten(input_shape=(28,28),name='L1'),\n",
        "        keras.Input(shape=(784,)),\n",
        "        Dense(25, activation='relu', name = 'L3'),\n",
        "        Dense(10, activation='softmax', name = 'L4')\n",
        "     ]\n",
        ")\n",
        "model4.compile(loss=tf.keras.losses.SparseCategoricalCrossentropy(), optimizer='Adam',metrics=['accuracy'])\n",
        "\n",
        "history=model4.fit(X_train,y_train,epochs=250,verbose=0)"
      ],
      "metadata": {
        "id": "eaOxmmYgFMGU"
      },
      "execution_count": 25,
      "outputs": []
    },
    {
      "cell_type": "code",
      "source": [
        "y_hat = model4.predict(X_train)\n",
        "y_pred = y_hat.argmax(axis=1)\n",
        "print(f'train acc: {accuracy_score(y_train,y_pred)}')\n",
        "\n",
        "y_hat = model4.predict(X_cv)\n",
        "y_pred = y_hat.argmax(axis=1)\n",
        "print(f'cv acc: {accuracy_score(y_cv,y_pred)}')"
      ],
      "metadata": {
        "colab": {
          "base_uri": "https://localhost:8080/"
        },
        "id": "ne4Zt2LaIJCN",
        "outputId": "8d30535d-d5c9-4cce-edb3-24b29d24538a"
      },
      "execution_count": 26,
      "outputs": [
        {
          "output_type": "stream",
          "name": "stdout",
          "text": [
            "1064/1064 [==============================] - 1s 1ms/step\n",
            "train acc: 0.9984714873603763\n",
            "119/119 [==============================] - 0s 2ms/step\n",
            "cv acc: 0.9494708994708995\n"
          ]
        }
      ]
    },
    {
      "cell_type": "code",
      "source": [
        "#"
      ],
      "metadata": {
        "id": "6KkHBaEpfjaf"
      },
      "execution_count": null,
      "outputs": []
    },
    {
      "cell_type": "code",
      "source": [
        "# now trying with features that are important"
      ],
      "metadata": {
        "id": "R09N2m9vILjj"
      },
      "execution_count": 27,
      "outputs": []
    },
    {
      "cell_type": "code",
      "source": [
        "df=pd.read_csv(\"MNIST.csv\")\n",
        "X = df.iloc[:,1:].values\n",
        "y = df.iloc[:,0].values\n",
        "print(X.shape)\n",
        "print(y.shape)\n",
        "sns.heatmap(X[0].reshape(28,28))\n",
        "from sklearn.ensemble import RandomForestClassifier\n",
        "\n",
        "rf = RandomForestClassifier()\n",
        "\n",
        "rf.fit(X,y)\n",
        "imp=rf.feature_importances_\n",
        "bool_arr=list()\n",
        "for i in range(len(imp)):\n",
        "    if imp[i]==0:\n",
        "        bool_arr.append(False)\n",
        "    else:\n",
        "        bool_arr.append(True)\n",
        "X_new=X[:,bool_arr]\n"
      ],
      "metadata": {
        "colab": {
          "base_uri": "https://localhost:8080/",
          "height": 465
        },
        "id": "7oK3nvrdIaYP",
        "outputId": "17c85d20-c261-4693-d892-d2690e2e198f"
      },
      "execution_count": 31,
      "outputs": [
        {
          "output_type": "stream",
          "name": "stdout",
          "text": [
            "(42000, 784)\n",
            "(42000,)\n"
          ]
        },
        {
          "output_type": "display_data",
          "data": {
            "text/plain": [
              "<Figure size 640x480 with 2 Axes>"
            ],
            "image/png": "[encoded data removed]"
          },
          "metadata": {}
        }
      ]
    },
    {
      "cell_type": "code",
      "source": [
        "print(X_new.shape)\n",
        "print(y.shape)\n",
        "X_new=X_new/255\n",
        "\n",
        "X_train,X_test,y_train,y_test=train_test_split(X_new,y,test_size=0.1,random_state=2)\n",
        "X_train,X_cv,y_train,y_cv=train_test_split(X_train,y_train,test_size=0.1,random_state=2)"
      ],
      "metadata": {
        "colab": {
          "base_uri": "https://localhost:8080/"
        },
        "id": "gKGz35vKfWvA",
        "outputId": "66ef2768-bc58-4058-ab97-009ca22f8798"
      },
      "execution_count": 39,
      "outputs": [
        {
          "output_type": "stream",
          "name": "stdout",
          "text": [
            "(42000, 659)\n",
            "(42000,)\n"
          ]
        }
      ]
    },
    {
      "cell_type": "code",
      "source": [
        "model5 = Sequential(\n",
        "    [\n",
        "        #Flatten(input_shape=(28,28),name='L1'),\n",
        "        keras.Input(shape=(659,)),\n",
        "        Dense(128, activation = 'relu',name='L2'),\n",
        "        Dense(10, activation = 'linear',name='L3')\n",
        "    ]\n",
        ")\n",
        "\n",
        "model5.compile(loss=tf.keras.losses.SparseCategoricalCrossentropy(from_logits=True), optimizer=tf.keras.optimizers.Adam(0.001))\n",
        "\n",
        "model5.fit(X_train,y_train,epochs=250,verbose=0)\n",
        "\n",
        "y_prob5 = model5.predict(X_train)\n",
        "y_prob5 = tf.nn.softmax(y_prob5).numpy()\n",
        "y_pred5 = y_prob5.argmax(axis=1)\n",
        "print(f'train acc: {accuracy_score(y_train,y_pred5)}') #little bit better\n",
        "\n",
        "y_prob5 = model5.predict(X_cv)\n",
        "y_prob5 = tf.nn.softmax(y_prob5).numpy()\n",
        "y_pred5 = y_prob5.argmax(axis=1)\n",
        "print(f'cv acc: {accuracy_score(y_cv,y_pred5)}')"
      ],
      "metadata": {
        "colab": {
          "base_uri": "https://localhost:8080/"
        },
        "id": "PdOfD54SfesK",
        "outputId": "2563d42f-9a08-43bd-9c00-f810ae566de2"
      },
      "execution_count": 40,
      "outputs": [
        {
          "output_type": "stream",
          "name": "stdout",
          "text": [
            "1064/1064 [==============================] - 2s 2ms/step\n",
            "train acc: 1.0\n",
            "119/119 [==============================] - 0s 2ms/step\n",
            "cv acc: 0.976984126984127\n"
          ]
        }
      ]
    },
    {
      "cell_type": "code",
      "source": [
        "y_prob5 = model5.predict(X_test)\n",
        "y_prob5 = tf.nn.softmax(y_prob5).numpy()\n",
        "y_pred5 = y_prob5.argmax(axis=1)\n",
        "print(f'test acc: {accuracy_score(y_test,y_pred5)}')"
      ],
      "metadata": {
        "colab": {
          "base_uri": "https://localhost:8080/"
        },
        "id": "WJOaVhFMiUZ1",
        "outputId": "2b65c586-4ed9-4353-e3bb-319621581f79"
      },
      "execution_count": 42,
      "outputs": [
        {
          "output_type": "stream",
          "name": "stdout",
          "text": [
            "132/132 [==============================] - 0s 3ms/step\n",
            "test acc: 0.9783333333333334\n"
          ]
        }
      ]
    },
    {
      "cell_type": "code",
      "source": [],
      "metadata": {
        "id": "BA40Sqgrl5bU"
      },
      "execution_count": null,
      "outputs": []
    }
  ]
}